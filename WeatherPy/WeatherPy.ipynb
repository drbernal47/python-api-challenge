{
 "cells": [
  {
   "cell_type": "code",
   "execution_count": 1,
   "metadata": {},
   "outputs": [],
   "source": [
    "# Dependencies and Setup\n",
    "import matplotlib.pyplot as plt\n",
    "import pandas as pd\n",
    "import numpy as np\n",
    "import requests\n",
    "import time\n",
    "import json\n",
    "import datetime\n",
    "from scipy.stats import linregress\n",
    "\n",
    "# Import API key\n",
    "from config import weather_api_key\n",
    "\n",
    "# Incorporated citipy to determine city based on latitude and longitude\n",
    "from citipy import citipy\n",
    "\n",
    "# Output File (CSV)\n",
    "output_data_file = \"output_data/cities.csv\"\n",
    "\n",
    "# Range of latitudes and longitudes\n",
    "lat_range = (-90, 90)\n",
    "lng_range = (-180, 180)"
   ]
  },
  {
   "cell_type": "markdown",
   "metadata": {},
   "source": [
    "## Generate Cities List"
   ]
  },
  {
   "cell_type": "code",
   "execution_count": 2,
   "metadata": {},
   "outputs": [
    {
     "data": {
      "text/plain": [
       "10"
      ]
     },
     "execution_count": 2,
     "metadata": {},
     "output_type": "execute_result"
    }
   ],
   "source": [
    "# List for holding lat_lngs and cities\n",
    "coordinates = []\n",
    "cities = []\n",
    "\n",
    "# Create a set of random lat and lng combinations\n",
    "lats = np.random.uniform(lat_range[0], lat_range[1], size=10) # Change size to 1500 after testing\n",
    "lngs = np.random.uniform(lng_range[0], lng_range[1], size=10) # Change size to 1500 after testing\n",
    "coordinates = zip(lats, lngs)\n",
    "\n",
    "# Identify nearest city for each lat, lng combination\n",
    "for coord in coordinates:\n",
    "    city = citipy.nearest_city(coord[0], coord[1]).city_name\n",
    "    \n",
    "    # If the city is unique, then add it to a our cities list\n",
    "    if city not in cities:\n",
    "        cities.append(city)\n",
    "\n",
    "# Print the city count to confirm sufficient count\n",
    "len(cities)"
   ]
  },
  {
   "cell_type": "code",
   "execution_count": 3,
   "metadata": {},
   "outputs": [
    {
     "name": "stdout",
     "output_type": "stream",
     "text": [
      "-----------------------------------\n",
      "Retrieving Data – Please be patient\n",
      "-----------------------------------\n",
      "Found data for city #1: napier\n",
      "Found data for city #2: rio grande\n",
      "Found data for city #3: nikolskoye\n",
      "Found data for city #4: khatanga\n",
      "Found data for city #5: newberg\n",
      "Found data for city #6: san patricio\n",
      "Found data for city #7: albany\n",
      "Found data for city #8: ushuaia\n",
      "Found data for city #9: vanavara\n",
      "Found data for city #10: gumdag\n",
      "-------------------------------------------\n",
      "Successfully retrieved data for 10 cities.\n",
      "-------------------------------------------\n"
     ]
    }
   ],
   "source": [
    "# Request weather data (temperature, humidity, cloudiness, windspeed) from OpenWeather\n",
    "\n",
    "successful_cities = []\n",
    "lat = []\n",
    "lng = []\n",
    "temp = []\n",
    "humidity = []\n",
    "cloudiness = []\n",
    "windspeed = []\n",
    "country = []\n",
    "date = []\n",
    "\n",
    "print(\"-----------------------------------\")\n",
    "print(\"Retrieving Data – Please be patient\")\n",
    "print(\"-----------------------------------\")\n",
    "\n",
    "for city in cities:\n",
    "    \n",
    "    # Avoid exceeding 60 calls per minute from API request\n",
    "    time.sleep(1)\n",
    "    \n",
    "    # Request data from API\n",
    "    city_url = f\"http://api.openweathermap.org/data/2.5/weather?q={city}&appid={weather_api_key}&units=imperial\"\n",
    "    response = requests.get(city_url).json()\n",
    "    \n",
    "    try:\n",
    "        lat.append(response[\"coord\"][\"lat\"])\n",
    "        lng.append(response[\"coord\"][\"lon\"])\n",
    "        temp.append(response[\"main\"][\"temp_max\"])\n",
    "        humidity.append(response[\"main\"][\"humidity\"])\n",
    "        cloudiness.append(response[\"clouds\"][\"all\"])\n",
    "        windspeed.append(response[\"wind\"][\"speed\"])\n",
    "        country.append(response[\"sys\"][\"country\"])\n",
    "        date.append(response[\"dt\"])\n",
    "        successful_cities.append(city)\n",
    "        print(f\"Found data for city #{len(successful_cities)}: {city}\")\n",
    "        \n",
    "    except:\n",
    "        print(f\"City '{city}' not found. Proceeding to next city.\")\n",
    "        pass\n",
    "    \n",
    "print(\"-------------------------------------------\")\n",
    "print(f\"Successfully retrieved data for {len(successful_cities)} cities.\")\n",
    "print(\"-------------------------------------------\")"
   ]
  },
  {
   "cell_type": "code",
   "execution_count": 4,
   "metadata": {},
   "outputs": [
    {
     "data": {
      "text/html": [
       "<div>\n",
       "<style scoped>\n",
       "    .dataframe tbody tr th:only-of-type {\n",
       "        vertical-align: middle;\n",
       "    }\n",
       "\n",
       "    .dataframe tbody tr th {\n",
       "        vertical-align: top;\n",
       "    }\n",
       "\n",
       "    .dataframe thead th {\n",
       "        text-align: right;\n",
       "    }\n",
       "</style>\n",
       "<table border=\"1\" class=\"dataframe\">\n",
       "  <thead>\n",
       "    <tr style=\"text-align: right;\">\n",
       "      <th></th>\n",
       "      <th>City</th>\n",
       "      <th>Latitude</th>\n",
       "      <th>Longitude</th>\n",
       "      <th>Max Temperature (°F)</th>\n",
       "      <th>Humidity (%)</th>\n",
       "      <th>Cloudiness (%)</th>\n",
       "      <th>Wind Speed (mph)</th>\n",
       "      <th>Country Code</th>\n",
       "      <th>Date &amp; Time</th>\n",
       "    </tr>\n",
       "  </thead>\n",
       "  <tbody>\n",
       "    <tr>\n",
       "      <th>0</th>\n",
       "      <td>napier</td>\n",
       "      <td>-39.4833</td>\n",
       "      <td>176.9167</td>\n",
       "      <td>66.99</td>\n",
       "      <td>64</td>\n",
       "      <td>100</td>\n",
       "      <td>3.00</td>\n",
       "      <td>NZ</td>\n",
       "      <td>1612815084</td>\n",
       "    </tr>\n",
       "    <tr>\n",
       "      <th>1</th>\n",
       "      <td>rio grande</td>\n",
       "      <td>-32.0350</td>\n",
       "      <td>-52.0986</td>\n",
       "      <td>75.20</td>\n",
       "      <td>73</td>\n",
       "      <td>40</td>\n",
       "      <td>11.50</td>\n",
       "      <td>BR</td>\n",
       "      <td>1612814916</td>\n",
       "    </tr>\n",
       "    <tr>\n",
       "      <th>2</th>\n",
       "      <td>nikolskoye</td>\n",
       "      <td>59.7035</td>\n",
       "      <td>30.7861</td>\n",
       "      <td>5.00</td>\n",
       "      <td>84</td>\n",
       "      <td>0</td>\n",
       "      <td>3.27</td>\n",
       "      <td>RU</td>\n",
       "      <td>1612815086</td>\n",
       "    </tr>\n",
       "    <tr>\n",
       "      <th>3</th>\n",
       "      <td>khatanga</td>\n",
       "      <td>71.9667</td>\n",
       "      <td>102.5000</td>\n",
       "      <td>-19.21</td>\n",
       "      <td>82</td>\n",
       "      <td>0</td>\n",
       "      <td>14.05</td>\n",
       "      <td>RU</td>\n",
       "      <td>1612815087</td>\n",
       "    </tr>\n",
       "    <tr>\n",
       "      <th>4</th>\n",
       "      <td>newberg</td>\n",
       "      <td>45.3001</td>\n",
       "      <td>-122.9732</td>\n",
       "      <td>46.00</td>\n",
       "      <td>65</td>\n",
       "      <td>75</td>\n",
       "      <td>3.44</td>\n",
       "      <td>US</td>\n",
       "      <td>1612815014</td>\n",
       "    </tr>\n",
       "  </tbody>\n",
       "</table>\n",
       "</div>"
      ],
      "text/plain": [
       "         City  Latitude  Longitude  Max Temperature (°F)  Humidity (%)  \\\n",
       "0      napier  -39.4833   176.9167                 66.99            64   \n",
       "1  rio grande  -32.0350   -52.0986                 75.20            73   \n",
       "2  nikolskoye   59.7035    30.7861                  5.00            84   \n",
       "3    khatanga   71.9667   102.5000                -19.21            82   \n",
       "4     newberg   45.3001  -122.9732                 46.00            65   \n",
       "\n",
       "   Cloudiness (%)  Wind Speed (mph) Country Code  Date & Time  \n",
       "0             100              3.00           NZ   1612815084  \n",
       "1              40             11.50           BR   1612814916  \n",
       "2               0              3.27           RU   1612815086  \n",
       "3               0             14.05           RU   1612815087  \n",
       "4              75              3.44           US   1612815014  "
      ]
     },
     "execution_count": 4,
     "metadata": {},
     "output_type": "execute_result"
    }
   ],
   "source": [
    "# Create a dataframe\n",
    "weather_df = pd.DataFrame({\n",
    "    \"City\":successful_cities,\n",
    "    \"Latitude\":lat,\n",
    "    \"Longitude\":lng,\n",
    "    \"Max Temperature (°F)\":temp,\n",
    "    \"Humidity (%)\":humidity,\n",
    "    \"Cloudiness (%)\":cloudiness,\n",
    "    \"Wind Speed (mph)\":windspeed,\n",
    "    \"Country Code\":country,\n",
    "    \"Date & Time\":date\n",
    "})\n",
    "\n",
    "# Extract average timestamp & store for later\n",
    "mean_date = weather_df[\"Date & Time\"].mean()\n",
    "retrieval_date = datetime.datetime.fromtimestamp(mean_date).date()\n",
    "\n",
    "# Export data into a csv\n",
    "weather_df.to_csv(output_data_file,index = False)\n",
    "\n",
    "\n",
    "weather_df.head()"
   ]
  },
  {
   "cell_type": "markdown",
   "metadata": {},
   "source": [
    "## Scatterplots"
   ]
  },
  {
   "cell_type": "markdown",
   "metadata": {},
   "source": [
    "This scatterplot shows the relationship between Temperature and Latitude of each city."
   ]
  },
  {
   "cell_type": "code",
   "execution_count": 50,
   "metadata": {},
   "outputs": [
    {
     "data": {
      "image/png": "[encoded data removed]",
      "text/plain": [
       "<Figure size 576x432 with 1 Axes>"
      ]
     },
     "metadata": {
      "needs_background": "light"
     },
     "output_type": "display_data"
    }
   ],
   "source": [
    "x_values = north_df[\"Latitude\"]\n",
    "y_values = north_df[\"Max Temperature (°F)\"]\n",
    "\n",
    "plt.figure(figsize=(8,6))\n",
    "plt.scatter(x_values, y_values)\n",
    "plt.title(f'Max Temperature vs. Latitude ({retrieval_date})')\n",
    "plt.xlabel(\"Latitude\")\n",
    "plt.ylabel(\"Temperature\")\n",
    "\n",
    "plt.savefig(\"output_data/Temperature_vs_Latitude.png\")\n",
    "plt.show()"
   ]
  },
  {
   "cell_type": "markdown",
   "metadata": {},
   "source": [
    "This scatterplot shows the relationship between Humidity and Latitude of each city."
   ]
  },
  {
   "cell_type": "code",
   "execution_count": 51,
   "metadata": {},
   "outputs": [
    {
     "data": {
      "image/png": "[encoded data removed]",
      "text/plain": [
       "<Figure size 576x432 with 1 Axes>"
      ]
     },
     "metadata": {
      "needs_background": "light"
     },
     "output_type": "display_data"
    }
   ],
   "source": [
    "x_values = north_df[\"Latitude\"]\n",
    "y_values = north_df[\"Humidity (%)\"]\n",
    "\n",
    "plt.figure(figsize=(8,6))\n",
    "plt.scatter(x_values, y_values)\n",
    "plt.title(f'Humidity vs. Latitude ({retrieval_date})')\n",
    "plt.xlabel(\"Latitude\")\n",
    "plt.ylabel(\"Humidity\")\n",
    "\n",
    "plt.savefig(\"output_data/Humidity_vs_Latitude.png\")\n",
    "plt.show()"
   ]
  },
  {
   "cell_type": "markdown",
   "metadata": {},
   "source": [
    "This scatterplot shows the relationship between Cloudiness and Latitude of each city."
   ]
  },
  {
   "cell_type": "code",
   "execution_count": 52,
   "metadata": {},
   "outputs": [
    {
     "data": {
      "image/png": "[encoded data removed]",
      "text/plain": [
       "<Figure size 576x432 with 1 Axes>"
      ]
     },
     "metadata": {
      "needs_background": "light"
     },
     "output_type": "display_data"
    }
   ],
   "source": [
    "x_values = north_df[\"Latitude\"]\n",
    "y_values = north_df[\"Cloudiness (%)\"]\n",
    "\n",
    "plt.figure(figsize=(8,6))\n",
    "plt.scatter(x_values, y_values)\n",
    "plt.title(f'Cloudiness vs. Latitude ({retrieval_date})')\n",
    "plt.xlabel(\"Latitude\")\n",
    "plt.ylabel(\"Cloudiness\")\n",
    "\n",
    "plt.savefig(\"output_data/Cloudiness_vs_Latitude.png\")\n",
    "plt.show()"
   ]
  },
  {
   "cell_type": "markdown",
   "metadata": {},
   "source": [
    "This scatterplot shows the relationship between Wind Speed and Latitude of each city."
   ]
  },
  {
   "cell_type": "code",
   "execution_count": 53,
   "metadata": {},
   "outputs": [
    {
     "data": {
      "image/png": "[encoded data removed]",
      "text/plain": [
       "<Figure size 576x432 with 1 Axes>"
      ]
     },
     "metadata": {
      "needs_background": "light"
     },
     "output_type": "display_data"
    }
   ],
   "source": [
    "x_values = north_df[\"Latitude\"]\n",
    "y_values = north_df[\"Wind Speed (mph)\"]\n",
    "\n",
    "plt.figure(figsize=(8,6))\n",
    "plt.scatter(x_values, y_values)\n",
    "plt.title(f'Wind Speed vs. Latitude ({retrieval_date})')\n",
    "plt.xlabel(\"Latitude\")\n",
    "plt.ylabel(\"Wind Speed\")\n",
    "\n",
    "plt.savefig(\"output_data/Wind_Speed_vs_Latitude.png\")\n",
    "plt.show()"
   ]
  },
  {
   "cell_type": "markdown",
   "metadata": {},
   "source": [
    "## Linear Regression"
   ]
  },
  {
   "cell_type": "markdown",
   "metadata": {},
   "source": [
    "To analyze each relationship using linear regression, we will separate the data by hemisphere (since we are exploring whether distance away from the equator, where latitude is zero, is correlated with the weather data)."
   ]
  },
  {
   "cell_type": "code",
   "execution_count": 54,
   "metadata": {},
   "outputs": [],
   "source": [
    "# Create a DataFrame for each hemisphere\n",
    "\n",
    "north_df = weather_df.loc[weather_df[\"Latitude\"]>0]\n",
    "\n",
    "south_df = weather_df.loc[weather_df[\"Latitude\"]<0]"
   ]
  },
  {
   "cell_type": "markdown",
   "metadata": {},
   "source": [
    "#### Northern Hemisphere: Temperature vs. Latitude"
   ]
  },
  {
   "cell_type": "code",
   "execution_count": 86,
   "metadata": {},
   "outputs": [
    {
     "data": {
      "image/png": "[encoded data removed]",
      "text/plain": [
       "<Figure size 576x432 with 1 Axes>"
      ]
     },
     "metadata": {
      "needs_background": "light"
     },
     "output_type": "display_data"
    }
   ],
   "source": [
    "x_values = north_df[\"Latitude\"]\n",
    "y_values = north_df[\"Max Temperature (°F)\"]\n",
    "\n",
    "plt.figure(figsize=(8,6))\n",
    "plt.scatter(x_values, y_values)\n",
    "plt.title(f'Max Temperature vs. Latitude ({retrieval_date}, N. Hemi.)')\n",
    "plt.xlabel(\"Latitude\")\n",
    "plt.ylabel(\"Temperature\")\n",
    "\n",
    "(slope, intercept, rvalue, pvalue, stderr) = linregress(x_values, y_values)\n",
    "regress_values = slope * x_values + intercept\n",
    "plt.plot(x_values, regress_values,color=\"brown\")\n",
    "\n",
    "x = max(x_values)-.4*(max(x_values)-min(x_values))\n",
    "y_range = (max(y_values)- min(y_values))\n",
    "                      \n",
    "plt.text(x,max(y_values)-y_range*.05,f\"y = {round(slope,4)} * x + {round(intercept,4)}\",c=\"brown\",size=12)\n",
    "plt.text(x,max(y_values)-y_range*.13,f\"r-value: {round(rvalue,6)}\",c=\"brown\",size=12)\n",
    "plt.text(x,max(y_values)-y_range*.21,f\"r^2-value: {round(rvalue**2,6)}\",c=\"brown\",size=12)\n",
    "\n",
    "plt.savefig(\"output_data/Temperature_vs_Latitude_North.png\")\n",
    "plt.show()"
   ]
  },
  {
   "cell_type": "code",
   "execution_count": 87,
   "metadata": {},
   "outputs": [
    {
     "data": {
      "image/png": "[encoded data removed]",
      "text/plain": [
       "<Figure size 576x432 with 1 Axes>"
      ]
     },
     "metadata": {
      "needs_background": "light"
     },
     "output_type": "display_data"
    }
   ],
   "source": [
    "x_values = south_df[\"Latitude\"]\n",
    "y_values = south_df[\"Max Temperature (°F)\"]\n",
    "\n",
    "plt.figure(figsize=(8,6))\n",
    "plt.scatter(x_values, y_values)\n",
    "plt.title(f'Max Temperature vs. Latitude ({retrieval_date}, S. Hemi.)')\n",
    "plt.xlabel(\"Latitude\")\n",
    "plt.ylabel(\"Temperature\")\n",
    "\n",
    "(slope, intercept, rvalue, pvalue, stderr) = linregress(x_values, y_values)\n",
    "regress_values = slope * x_values + intercept\n",
    "plt.plot(x_values, regress_values,color=\"purple\")\n",
    "\n",
    "x = min(x_values)\n",
    "y_range = (max(y_values)- min(y_values))\n",
    "\n",
    "plt.text(x,max(y_values)-y_range*.05,f\"y = {round(slope,4)} * x + {round(intercept,4)}\",c=\"purple\",size=12)\n",
    "plt.text(x,max(y_values)-y_range*.13,f\"r-value: {round(rvalue,6)}\",c=\"purple\",size=12)\n",
    "plt.text(x,max(y_values)-y_range*.21,f\"r^2-value: {round(rvalue**2,6)}\",c=\"purple\",size=12)\n",
    "\n",
    "plt.savefig(\"output_data/Temperature_vs_Latitude_North.png\")\n",
    "plt.show()"
   ]
  },
  {
   "cell_type": "code",
   "execution_count": null,
   "metadata": {},
   "outputs": [],
   "source": [
    "# Analysis here after testing"
   ]
  }
 ],
 "metadata": {
  "kernelspec": {
   "display_name": "Python 3",
   "language": "python",
   "name": "python3"
  },
  "language_info": {
   "codemirror_mode": {
    "name": "ipython",
    "version": 3
   },
   "file_extension": ".py",
   "mimetype": "text/x-python",
   "name": "python",
   "nbconvert_exporter": "python",
   "pygments_lexer": "ipython3",
   "version": "3.8.5"
  }
 },
 "nbformat": 4,
 "nbformat_minor": 4
}
