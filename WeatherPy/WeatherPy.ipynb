{
 "cells": [
  {
   "cell_type": "code",
   "execution_count": 1,
   "metadata": {},
   "outputs": [],
   "source": [
    "# Dependencies and Setup\n",
    "import matplotlib.pyplot as plt\n",
    "import pandas as pd\n",
    "import numpy as np\n",
    "import requests\n",
    "import time\n",
    "import json\n",
    "import datetime\n",
    "from scipy.stats import linregress\n",
    "\n",
    "# Import API key\n",
    "from config import weather_api_key\n",
    "\n",
    "# Incorporated citipy to determine city based on latitude and longitude\n",
    "from citipy import citipy\n",
    "\n",
    "# Output File (CSV)\n",
    "output_data_file = \"output_data/cities.csv\"\n",
    "\n",
    "# Range of latitudes and longitudes\n",
    "lat_range = (-90, 90)\n",
    "lng_range = (-180, 180)"
   ]
  },
  {
   "cell_type": "markdown",
   "metadata": {},
   "source": [
    "## Generate Cities List"
   ]
  },
  {
   "cell_type": "code",
   "execution_count": 2,
   "metadata": {},
   "outputs": [],
   "source": [
    "# Define a function that creates a set of \"n\" random lat and lng combinations\n",
    "def city_set(n):\n",
    "    \n",
    "    lats = np.random.uniform(lat_range[0], lat_range[1], size=n)\n",
    "    lngs = np.random.uniform(lng_range[0], lng_range[1], size=n)\n",
    "    return zip(lats, lngs)"
   ]
  },
  {
   "cell_type": "code",
   "execution_count": 7,
   "metadata": {},
   "outputs": [
    {
     "name": "stdout",
     "output_type": "stream",
     "text": [
      "-----------------------------------\n",
      "Retrieving Data – Please be patient\n",
      "-----------------------------------\n",
      "Found data for city #1: uyuni\n",
      "Found data for city #2: ushuaia\n",
      "Found data for city #3: batesville\n",
      "Found data for city #4: arkansas city\n",
      "City 'taolanaro' not found. Proceeding to next city.\n",
      "Found data for city #5: san quintin\n",
      "Found data for city #6: bluff\n",
      "Found data for city #7: vila do maio\n",
      "Found data for city #8: road town\n",
      "Found data for city #9: vaini\n",
      "Found data for city #10: tuy hoa\n",
      "Found data for city #11: marienburg\n",
      "Found data for city #12: jamestown\n",
      "Found data for city #13: port elizabeth\n",
      "Found data for city #14: vanderhoof\n",
      "Found data for city #15: severo-kurilsk\n",
      "Found data for city #16: ilulissat\n",
      "Found data for city #17: hobart\n",
      "Found data for city #18: shelburne\n",
      "Found data for city #19: bendigo\n",
      "Found data for city #20: albany\n",
      "Found data for city #21: birganj\n",
      "Found data for city #22: punta arenas\n",
      "Found data for city #23: ixtapa\n",
      "Found data for city #24: tessalit\n",
      "City 'barentsburg' not found. Proceeding to next city.\n",
      "Found data for city #25: cidreira\n",
      "Found data for city #26: avarua\n",
      "Found data for city #27: nuuk\n",
      "Found data for city #28: mersing\n",
      "Found data for city #29: cabo san lucas\n",
      "Found data for city #30: rock springs\n",
      "Found data for city #31: luanda\n",
      "Found data for city #32: te anau\n",
      "Found data for city #33: amalapuram\n",
      "Found data for city #34: san policarpo\n",
      "Found data for city #35: henties bay\n",
      "Found data for city #36: kapaa\n",
      "Found data for city #37: castro\n",
      "Found data for city #38: georgetown\n",
      "Found data for city #39: bubaque\n",
      "Found data for city #40: rikitea\n",
      "Found data for city #41: asau\n",
      "Found data for city #42: tari\n",
      "Found data for city #43: tuktoyaktuk\n",
      "Found data for city #44: butaritari\n",
      "Found data for city #45: jurado\n",
      "Found data for city #46: chokurdakh\n",
      "Found data for city #47: chibombo\n",
      "Found data for city #48: broken hill\n",
      "Found data for city #49: vila velha\n",
      "Found data for city #50: port alfred\n",
      "Found data for city #51: los llanos de aridane\n",
      "Found data for city #52: carutapera\n",
      "Found data for city #53: cape town\n",
      "Found data for city #54: busselton\n",
      "Found data for city #55: lubango\n",
      "Found data for city #56: buta\n",
      "Found data for city #57: alyangula\n",
      "Found data for city #58: vila franca do campo\n",
      "-------------------------------------------\n",
      "Successfully retrieved data for 58 cities.\n",
      "-------------------------------------------\n"
     ]
    }
   ],
   "source": [
    "# Request weather data (temperature, humidity, cloudiness, windspeed) from OpenWeather\n",
    "\n",
    "attempted = []\n",
    "cities = []\n",
    "lat = []\n",
    "lng = []\n",
    "temp = []\n",
    "humidity = []\n",
    "cloudiness = []\n",
    "windspeed = []\n",
    "country = []\n",
    "date = []\n",
    "\n",
    "print(\"-----------------------------------\")\n",
    "print(\"Retrieving Data – Please be patient\")\n",
    "print(\"-----------------------------------\")\n",
    "\n",
    "\n",
    "while len(cities) < 50:\n",
    "    \n",
    "    sample = city_set(10)\n",
    "    for coord in sample:\n",
    "        \n",
    "        city = citipy.nearest_city(coord[0], coord[1]).city_name\n",
    "        \n",
    "        if city in attempted:\n",
    "            break\n",
    "        \n",
    "        elif city not in cities:\n",
    "            \n",
    "            # Avoid exceeding 60 calls per minute from API request\n",
    "            time.sleep(1)\n",
    "            \n",
    "            # Request data from API\n",
    "            city_url = f\"http://api.openweathermap.org/data/2.5/weather?q={city}&appid={weather_api_key}&units=imperial\"\n",
    "            response = requests.get(city_url).json()\n",
    "            \n",
    "            try:\n",
    "                lat.append(response[\"coord\"][\"lat\"])\n",
    "                lng.append(response[\"coord\"][\"lon\"])\n",
    "                temp.append(response[\"main\"][\"temp_max\"])\n",
    "                humidity.append(response[\"main\"][\"humidity\"])\n",
    "                cloudiness.append(response[\"clouds\"][\"all\"])\n",
    "                windspeed.append(response[\"wind\"][\"speed\"])\n",
    "                country.append(response[\"sys\"][\"country\"])\n",
    "                date.append(response[\"dt\"])\n",
    "                cities.append(city)\n",
    "                print(f\"Found data for city #{len(cities)}: {city}\")\n",
    "                \n",
    "            except:\n",
    "                print(f\"City '{city}' not found. Proceeding to next city.\")\n",
    "                pass\n",
    "            \n",
    "            attempted.append(city)\n",
    "    \n",
    "print(\"-------------------------------------------\")\n",
    "print(f\"Successfully retrieved data for {len(cities)} cities.\")\n",
    "print(\"-------------------------------------------\")"
   ]
  },
  {
   "cell_type": "code",
   "execution_count": null,
   "metadata": {},
   "outputs": [],
   "source": [
    "# Create a dataframe\n",
    "weather_df = pd.DataFrame({\n",
    "    \"City\":cities,\n",
    "    \"Latitude\":lat,\n",
    "    \"Longitude\":lng,\n",
    "    \"Max Temperature (°F)\":temp,\n",
    "    \"Humidity (%)\":humidity,\n",
    "    \"Cloudiness (%)\":cloudiness,\n",
    "    \"Wind Speed (mph)\":windspeed,\n",
    "    \"Country Code\":country,\n",
    "    \"Date & Time\":date\n",
    "})\n",
    "\n",
    "# Extract average timestamp & store for later\n",
    "mean_date = weather_df[\"Date & Time\"].mean()\n",
    "retrieval_date = datetime.datetime.fromtimestamp(mean_date).date()\n",
    "\n",
    "# Export data into a csv\n",
    "weather_df.to_csv(output_data_file,index = False)\n",
    "\n",
    "\n",
    "weather_df.head()"
   ]
  },
  {
   "cell_type": "markdown",
   "metadata": {},
   "source": [
    "## Scatterplots"
   ]
  },
  {
   "cell_type": "markdown",
   "metadata": {},
   "source": [
    "This scatterplot shows the relationship between Temperature and Latitude of each city."
   ]
  },
  {
   "cell_type": "code",
   "execution_count": null,
   "metadata": {},
   "outputs": [],
   "source": [
    "x_values = weather_df[\"Latitude\"]\n",
    "y_str = \"Max Temperature (°F)\"\n",
    "y_values = weather_df[y_str]\n",
    "\n",
    "plt.figure(figsize=(8,6))\n",
    "plt.scatter(x_values, y_values)\n",
    "plt.title(f'{y_str} vs. Latitude ({retrieval_date})')\n",
    "plt.xlabel(\"Latitude\")\n",
    "plt.ylabel(y_str)\n",
    "\n",
    "plt.savefig(\"output_data/Temperature_vs_Latitude.png\")\n",
    "plt.show()"
   ]
  },
  {
   "cell_type": "markdown",
   "metadata": {},
   "source": [
    "This scatterplot shows the relationship between Humidity and Latitude of each city."
   ]
  },
  {
   "cell_type": "code",
   "execution_count": null,
   "metadata": {},
   "outputs": [],
   "source": [
    "x_values = weather_df[\"Latitude\"]\n",
    "y_str = \"Humidity (%)\"\n",
    "y_values = weather_df[y_str]\n",
    "\n",
    "plt.figure(figsize=(8,6))\n",
    "plt.scatter(x_values, y_values)\n",
    "plt.title(f'{y_str} vs. Latitude ({retrieval_date})')\n",
    "plt.xlabel(\"Latitude\")\n",
    "plt.ylabel(y_str)\n",
    "\n",
    "plt.savefig(\"output_data/Humidity_vs_Latitude.png\")\n",
    "plt.show()"
   ]
  },
  {
   "cell_type": "markdown",
   "metadata": {},
   "source": [
    "This scatterplot shows the relationship between Cloudiness and Latitude of each city."
   ]
  },
  {
   "cell_type": "code",
   "execution_count": null,
   "metadata": {},
   "outputs": [],
   "source": [
    "x_values = weather_df[\"Latitude\"]\n",
    "y_str = \"Cloudiness (%)\"\n",
    "y_values = weather_df[y_str]\n",
    "\n",
    "plt.figure(figsize=(8,6))\n",
    "plt.scatter(x_values, y_values)\n",
    "plt.title(f'{y_str} vs. Latitude ({retrieval_date})')\n",
    "plt.xlabel(\"Latitude\")\n",
    "plt.ylabel(y_str)\n",
    "\n",
    "plt.savefig(\"output_data/Cloudiness_vs_Latitude.png\")\n",
    "plt.show()"
   ]
  },
  {
   "cell_type": "markdown",
   "metadata": {},
   "source": [
    "This scatterplot shows the relationship between Wind Speed and Latitude of each city."
   ]
  },
  {
   "cell_type": "code",
   "execution_count": null,
   "metadata": {},
   "outputs": [],
   "source": [
    "x_values = weather_df[\"Latitude\"]\n",
    "y_str = \"Wind Speed (mph)\"\n",
    "y_values = weather_df[y_str]\n",
    "\n",
    "plt.figure(figsize=(8,6))\n",
    "plt.scatter(x_values, y_values)\n",
    "plt.title(f'{y_str} vs. Latitude ({retrieval_date})')\n",
    "plt.xlabel(\"Latitude\")\n",
    "plt.ylabel(y_str)\n",
    "\n",
    "plt.savefig(\"output_data/Wind_Speed_vs_Latitude.png\")\n",
    "plt.show()"
   ]
  },
  {
   "cell_type": "markdown",
   "metadata": {},
   "source": [
    "## Linear Regression"
   ]
  },
  {
   "cell_type": "markdown",
   "metadata": {},
   "source": [
    "To analyze each relationship using linear regression, we will separate the data by hemisphere (since we are exploring whether distance away from the equator, where latitude is zero, is correlated with the weather data)."
   ]
  },
  {
   "cell_type": "code",
   "execution_count": null,
   "metadata": {},
   "outputs": [],
   "source": [
    "# Create a DataFrame for each hemisphere\n",
    "\n",
    "north_df = weather_df.loc[weather_df[\"Latitude\"]>0]\n",
    "\n",
    "south_df = weather_df.loc[weather_df[\"Latitude\"]<0]"
   ]
  },
  {
   "cell_type": "markdown",
   "metadata": {},
   "source": [
    "#### Northern Hemisphere: Temperature vs. Latitude"
   ]
  },
  {
   "cell_type": "code",
   "execution_count": null,
   "metadata": {},
   "outputs": [],
   "source": [
    "x_values = north_df[\"Latitude\"]\n",
    "y_str = \"Max Temperature (°F)\"\n",
    "y_values = north_df[y_str]\n",
    "\n",
    "plt.figure(figsize=(8,6))\n",
    "plt.scatter(x_values, y_values)\n",
    "plt.title(f'{y_str} vs. Latitude ({retrieval_date}, N. Hemi.)')\n",
    "plt.xlabel(\"Latitude\")\n",
    "plt.ylabel(y_str)\n",
    "\n",
    "(slope, intercept, rvalue, pvalue, stderr) = linregress(x_values, y_values)\n",
    "regress_values = slope * x_values + intercept\n",
    "plt.plot(x_values, regress_values,color=\"brown\")\n",
    "\n",
    "x = max(x_values)-.4*(max(x_values)-min(x_values))\n",
    "y_range = (max(y_values)- min(y_values))\n",
    "                      \n",
    "plt.text(x,max(y_values)-y_range*.05,f\"y = {round(slope,4)} * x + {round(intercept,4)}\",c=\"brown\",size=12)\n",
    "plt.text(x,max(y_values)-y_range*.13,f\"r-value: {round(rvalue,6)}\",c=\"brown\",size=12)\n",
    "plt.text(x,max(y_values)-y_range*.21,f\"r^2-value: {round(rvalue**2,6)}\",c=\"brown\",size=12)\n",
    "\n",
    "plt.savefig(\"output_data/Temperature_vs_Latitude_North.png\")\n",
    "plt.show()"
   ]
  },
  {
   "cell_type": "markdown",
   "metadata": {},
   "source": [
    "#### Southern Hemisphere: Temperature vs. Latitude"
   ]
  },
  {
   "cell_type": "code",
   "execution_count": null,
   "metadata": {},
   "outputs": [],
   "source": [
    "x_values = south_df[\"Latitude\"]\n",
    "y_str = \"Max Temperature (°F)\"\n",
    "y_values = south_df[y_str]\n",
    "\n",
    "plt.figure(figsize=(8,6))\n",
    "plt.scatter(x_values, y_values)\n",
    "plt.title(f'{y_str} vs. Latitude ({retrieval_date}, S. Hemi.)')\n",
    "plt.xlabel(\"Latitude\")\n",
    "plt.ylabel(y_str)\n",
    "\n",
    "(slope, intercept, rvalue, pvalue, stderr) = linregress(x_values, y_values)\n",
    "regress_values = slope * x_values + intercept\n",
    "plt.plot(x_values, regress_values,color=\"purple\")\n",
    "\n",
    "x = min(x_values)\n",
    "y_range = (max(y_values)- min(y_values))\n",
    "\n",
    "plt.text(x,max(y_values)-y_range*.05,f\"y = {round(slope,4)} * x + {round(intercept,4)}\",c=\"purple\",size=12)\n",
    "plt.text(x,max(y_values)-y_range*.13,f\"r-value: {round(rvalue,6)}\",c=\"purple\",size=12)\n",
    "plt.text(x,max(y_values)-y_range*.21,f\"r^2-value: {round(rvalue**2,6)}\",c=\"purple\",size=12)\n",
    "\n",
    "plt.savefig(\"output_data/Temperature_vs_Latitude_South.png\")\n",
    "plt.show()"
   ]
  },
  {
   "cell_type": "code",
   "execution_count": null,
   "metadata": {},
   "outputs": [],
   "source": [
    "# Analysis here after testing"
   ]
  },
  {
   "cell_type": "markdown",
   "metadata": {},
   "source": [
    "#### Northen Hemisphere: Humidity vs. Latitude"
   ]
  },
  {
   "cell_type": "code",
   "execution_count": null,
   "metadata": {},
   "outputs": [],
   "source": [
    "x_values = north_df[\"Latitude\"]\n",
    "y_str = \"Humidity (%)\"\n",
    "y_values = north_df[y_str]\n",
    "\n",
    "plt.figure(figsize=(8,6))\n",
    "plt.scatter(x_values, y_values)\n",
    "plt.title(f'{y_str} vs. Latitude ({retrieval_date}, N. Hemi.)')\n",
    "plt.xlabel(\"Latitude\")\n",
    "plt.ylabel(y_str)\n",
    "\n",
    "(slope, intercept, rvalue, pvalue, stderr) = linregress(x_values, y_values)\n",
    "regress_values = slope * x_values + intercept\n",
    "plt.plot(x_values, regress_values,color=\"brown\")\n",
    "\n",
    "x = max(x_values)-.4*(max(x_values)-min(x_values))\n",
    "y_range = (max(y_values)- min(y_values))\n",
    "                      \n",
    "plt.text(x,max(y_values)-y_range*.05,f\"y = {round(slope,4)} * x + {round(intercept,4)}\",c=\"brown\",size=12)\n",
    "plt.text(x,max(y_values)-y_range*.13,f\"r-value: {round(rvalue,6)}\",c=\"brown\",size=12)\n",
    "plt.text(x,max(y_values)-y_range*.21,f\"r^2-value: {round(rvalue**2,6)}\",c=\"brown\",size=12)\n",
    "\n",
    "plt.savefig(\"output_data/Humidity_vs_Latitude_North.png\")\n",
    "plt.show()"
   ]
  },
  {
   "cell_type": "markdown",
   "metadata": {},
   "source": [
    "#### Southern Hemisphere: Humidity vs. Latitude"
   ]
  },
  {
   "cell_type": "code",
   "execution_count": null,
   "metadata": {},
   "outputs": [],
   "source": [
    "x_values = south_df[\"Latitude\"]\n",
    "y_str = \"Humidity (%)\"\n",
    "y_values = south_df[y_str]\n",
    "\n",
    "plt.figure(figsize=(8,6))\n",
    "plt.scatter(x_values, y_values)\n",
    "plt.title(f'{y_str} vs. Latitude ({retrieval_date}, S. Hemi.)')\n",
    "plt.xlabel(\"Latitude\")\n",
    "plt.ylabel(y_str)\n",
    "\n",
    "(slope, intercept, rvalue, pvalue, stderr) = linregress(x_values, y_values)\n",
    "regress_values = slope * x_values + intercept\n",
    "plt.plot(x_values, regress_values,color=\"purple\")\n",
    "\n",
    "x = min(x_values)\n",
    "y_range = (max(y_values)- min(y_values))\n",
    "\n",
    "plt.text(x,max(y_values)-y_range*.05,f\"y = {round(slope,4)} * x + {round(intercept,4)}\",c=\"purple\",size=12)\n",
    "plt.text(x,max(y_values)-y_range*.13,f\"r-value: {round(rvalue,6)}\",c=\"purple\",size=12)\n",
    "plt.text(x,max(y_values)-y_range*.21,f\"r^2-value: {round(rvalue**2,6)}\",c=\"purple\",size=12)\n",
    "\n",
    "plt.savefig(\"output_data/Humidity_vs_Latitude_South.png\")\n",
    "plt.show()"
   ]
  },
  {
   "cell_type": "code",
   "execution_count": null,
   "metadata": {},
   "outputs": [],
   "source": [
    "# Analysis Later"
   ]
  },
  {
   "cell_type": "markdown",
   "metadata": {},
   "source": [
    "#### Northern Hemisphere: Cloudiness vs. Latitude"
   ]
  },
  {
   "cell_type": "code",
   "execution_count": null,
   "metadata": {},
   "outputs": [],
   "source": [
    "x_values = north_df[\"Latitude\"]\n",
    "y_str = \"Cloudiness (%)\"\n",
    "y_values = north_df[y_str]\n",
    "\n",
    "plt.figure(figsize=(8,6))\n",
    "plt.scatter(x_values, y_values)\n",
    "plt.title(f'{y_str} vs. Latitude ({retrieval_date}, N. Hemi.)')\n",
    "plt.xlabel(\"Latitude\")\n",
    "plt.ylabel(y_str)\n",
    "\n",
    "(slope, intercept, rvalue, pvalue, stderr) = linregress(x_values, y_values)\n",
    "regress_values = slope * x_values + intercept\n",
    "plt.plot(x_values, regress_values,color=\"brown\")\n",
    "\n",
    "x = max(x_values)-.4*(max(x_values)-min(x_values))\n",
    "y_range = (max(y_values)- min(y_values))\n",
    "                      \n",
    "plt.text(x,max(y_values)-y_range*.05,f\"y = {round(slope,4)} * x + {round(intercept,4)}\",c=\"brown\",size=12)\n",
    "plt.text(x,max(y_values)-y_range*.13,f\"r-value: {round(rvalue,6)}\",c=\"brown\",size=12)\n",
    "plt.text(x,max(y_values)-y_range*.21,f\"r^2-value: {round(rvalue**2,6)}\",c=\"brown\",size=12)\n",
    "\n",
    "plt.savefig(\"output_data/Cloudiness_vs_Latitude_North.png\")\n",
    "plt.show()"
   ]
  },
  {
   "cell_type": "markdown",
   "metadata": {},
   "source": [
    "#### Southern Hemisphere: Cloudiness vs. Latitude"
   ]
  },
  {
   "cell_type": "code",
   "execution_count": null,
   "metadata": {},
   "outputs": [],
   "source": [
    "x_values = south_df[\"Latitude\"]\n",
    "y_str = \"Cloudiness (%)\"\n",
    "y_values = south_df[y_str]\n",
    "\n",
    "plt.figure(figsize=(8,6))\n",
    "plt.scatter(x_values, y_values)\n",
    "plt.title(f'{y_str} vs. Latitude ({retrieval_date}, S. Hemi.)')\n",
    "plt.xlabel(\"Latitude\")\n",
    "plt.ylabel(y_str)\n",
    "\n",
    "(slope, intercept, rvalue, pvalue, stderr) = linregress(x_values, y_values)\n",
    "regress_values = slope * x_values + intercept\n",
    "plt.plot(x_values, regress_values,color=\"purple\")\n",
    "\n",
    "x = min(x_values)\n",
    "y_range = (max(y_values)- min(y_values))\n",
    "\n",
    "plt.text(x,max(y_values)-y_range*.05,f\"y = {round(slope,4)} * x + {round(intercept,4)}\",c=\"purple\",size=12)\n",
    "plt.text(x,max(y_values)-y_range*.13,f\"r-value: {round(rvalue,6)}\",c=\"purple\",size=12)\n",
    "plt.text(x,max(y_values)-y_range*.21,f\"r^2-value: {round(rvalue**2,6)}\",c=\"purple\",size=12)\n",
    "\n",
    "plt.savefig(\"output_data/Cloudiness_vs_Latitude_South.png\")\n",
    "plt.show()"
   ]
  },
  {
   "cell_type": "code",
   "execution_count": null,
   "metadata": {},
   "outputs": [],
   "source": [
    "# Analysis Later"
   ]
  },
  {
   "cell_type": "markdown",
   "metadata": {},
   "source": [
    "#### Northern Hemisphere: Wind Speed vs. Latitude"
   ]
  },
  {
   "cell_type": "code",
   "execution_count": null,
   "metadata": {},
   "outputs": [],
   "source": [
    "x_values = north_df[\"Latitude\"]\n",
    "y_str = \"Wind Speed (mph)\"\n",
    "y_values = north_df[y_str]\n",
    "\n",
    "plt.figure(figsize=(8,6))\n",
    "plt.scatter(x_values, y_values)\n",
    "plt.title(f'{y_str} vs. Latitude ({retrieval_date}, N. Hemi.)')\n",
    "plt.xlabel(\"Latitude\")\n",
    "plt.ylabel(y_str)\n",
    "\n",
    "(slope, intercept, rvalue, pvalue, stderr) = linregress(x_values, y_values)\n",
    "regress_values = slope * x_values + intercept\n",
    "plt.plot(x_values, regress_values,color=\"brown\")\n",
    "\n",
    "x = max(x_values)-.4*(max(x_values)-min(x_values))\n",
    "y_range = (max(y_values)- min(y_values))\n",
    "                      \n",
    "plt.text(x,max(y_values)-y_range*.05,f\"y = {round(slope,4)} * x + {round(intercept,4)}\",c=\"brown\",size=12)\n",
    "plt.text(x,max(y_values)-y_range*.13,f\"r-value: {round(rvalue,6)}\",c=\"brown\",size=12)\n",
    "plt.text(x,max(y_values)-y_range*.21,f\"r^2-value: {round(rvalue**2,6)}\",c=\"brown\",size=12)\n",
    "\n",
    "plt.savefig(\"output_data/Wind_Speed_vs_Latitude_North.png\")\n",
    "plt.show()"
   ]
  },
  {
   "cell_type": "markdown",
   "metadata": {},
   "source": [
    "#### Southern Hemisphere: Wind Speed vs. Latitude"
   ]
  },
  {
   "cell_type": "code",
   "execution_count": null,
   "metadata": {},
   "outputs": [],
   "source": [
    "x_values = south_df[\"Latitude\"]\n",
    "y_str = \"Wind Speed (mph)\"\n",
    "y_values = south_df[y_str]\n",
    "\n",
    "plt.figure(figsize=(8,6))\n",
    "plt.scatter(x_values, y_values)\n",
    "plt.title(f'{y_str} vs. Latitude ({retrieval_date}, S. Hemi.)')\n",
    "plt.xlabel(\"Latitude\")\n",
    "plt.ylabel(y_str)\n",
    "\n",
    "(slope, intercept, rvalue, pvalue, stderr) = linregress(x_values, y_values)\n",
    "regress_values = slope * x_values + intercept\n",
    "plt.plot(x_values, regress_values,color=\"purple\")\n",
    "\n",
    "x = min(x_values)\n",
    "y_range = (max(y_values)- min(y_values))\n",
    "\n",
    "plt.text(x,max(y_values)-y_range*.05,f\"y = {round(slope,4)} * x + {round(intercept,4)}\",c=\"purple\",size=12)\n",
    "plt.text(x,max(y_values)-y_range*.13,f\"r-value: {round(rvalue,6)}\",c=\"purple\",size=12)\n",
    "plt.text(x,max(y_values)-y_range*.21,f\"r^2-value: {round(rvalue**2,6)}\",c=\"purple\",size=12)\n",
    "\n",
    "plt.savefig(\"output_data/Wind_Speed_vs_Latitude_South.png\")\n",
    "plt.show()"
   ]
  },
  {
   "cell_type": "code",
   "execution_count": null,
   "metadata": {},
   "outputs": [],
   "source": [
    "# Analysis Later"
   ]
  },
  {
   "cell_type": "code",
   "execution_count": null,
   "metadata": {},
   "outputs": [],
   "source": []
  }
 ],
 "metadata": {
  "kernelspec": {
   "display_name": "Python 3",
   "language": "python",
   "name": "python3"
  },
  "language_info": {
   "codemirror_mode": {
    "name": "ipython",
    "version": 3
   },
   "file_extension": ".py",
   "mimetype": "text/x-python",
   "name": "python",
   "nbconvert_exporter": "python",
   "pygments_lexer": "ipython3",
   "version": "3.8.5"
  }
 },
 "nbformat": 4,
 "nbformat_minor": 4
}
