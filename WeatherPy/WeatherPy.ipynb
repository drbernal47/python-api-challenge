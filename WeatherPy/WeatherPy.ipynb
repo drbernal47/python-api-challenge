{
 "cells": [
  {
   "cell_type": "code",
   "execution_count": 13,
   "metadata": {},
   "outputs": [],
   "source": [
    "# Dependencies and Setup\n",
    "import matplotlib.pyplot as plt\n",
    "import pandas as pd\n",
    "import numpy as np\n",
    "import requests\n",
    "import time\n",
    "import json\n",
    "from scipy.stats import linregress\n",
    "\n",
    "# Import API key\n",
    "from config import weather_api_key\n",
    "\n",
    "# Incorporated citipy to determine city based on latitude and longitude\n",
    "from citipy import citipy\n",
    "\n",
    "# Output File (CSV)\n",
    "output_data_file = \"output_data/cities.csv\"\n",
    "\n",
    "# Range of latitudes and longitudes\n",
    "lat_range = (-90, 90)\n",
    "lng_range = (-180, 180)"
   ]
  },
  {
   "cell_type": "markdown",
   "metadata": {},
   "source": [
    "## Generate Cities List"
   ]
  },
  {
   "cell_type": "code",
   "execution_count": 26,
   "metadata": {},
   "outputs": [
    {
     "data": {
      "text/plain": [
       "10"
      ]
     },
     "execution_count": 26,
     "metadata": {},
     "output_type": "execute_result"
    }
   ],
   "source": [
    "# List for holding lat_lngs and cities\n",
    "coordinates = []\n",
    "cities = []\n",
    "\n",
    "# Create a set of random lat and lng combinations\n",
    "lats = np.random.uniform(lat_range[0], lat_range[1], size=10) # Change size to 1500 after testing\n",
    "lngs = np.random.uniform(lng_range[0], lng_range[1], size=10) # Change size to 1500 after testing\n",
    "coordinates = zip(lats, lngs)\n",
    "\n",
    "# Identify nearest city for each lat, lng combination\n",
    "for coord in coordinates:\n",
    "    city = citipy.nearest_city(coord[0], coord[1]).city_name\n",
    "    \n",
    "    # If the city is unique, then add it to a our cities list\n",
    "    if city not in cities:\n",
    "        cities.append(city)\n",
    "\n",
    "# Print the city count to confirm sufficient count\n",
    "len(cities)"
   ]
  },
  {
   "cell_type": "code",
   "execution_count": 27,
   "metadata": {},
   "outputs": [
    {
     "data": {
      "text/plain": [
       "['nijar',\n",
       " 'karwar',\n",
       " 'saint anthony',\n",
       " 'yellowknife',\n",
       " 'tiksi',\n",
       " 'dikson',\n",
       " 'ushuaia',\n",
       " 'merauke',\n",
       " 'markova',\n",
       " 'rikitea']"
      ]
     },
     "execution_count": 27,
     "metadata": {},
     "output_type": "execute_result"
    }
   ],
   "source": [
    "cities"
   ]
  },
  {
   "cell_type": "code",
   "execution_count": 29,
   "metadata": {},
   "outputs": [
    {
     "name": "stdout",
     "output_type": "stream",
     "text": [
      "[288.15, 297.38, 253.79, 235.15, 242.25, 238.07, 291.15, 299.82, 268.15, 298.44]\n",
      "[72, 38, 55, 67, 87, 84, 52, 85, 93, 70]\n",
      "[20, 13, 40, 20, 100, 91, 0, 93, 75, 14]\n",
      "[11.32, 2.48, 2.57, 8.23, 2.62, 6.76, 4.63, 3.91, 5, 4.73]\n",
      "['nijar', 'karwar', 'saint anthony', 'yellowknife', 'tiksi', 'dikson', 'ushuaia', 'merauke', 'markova', 'rikitea']\n"
     ]
    }
   ],
   "source": [
    "# Request weather data (temperature, humidity, cloudiness, windspeed) from OpenWeather\n",
    "\n",
    "successful_cities = []\n",
    "temp = []\n",
    "humidity = []\n",
    "cloudiness = []\n",
    "windspeed = []\n",
    "\n",
    "for city in cities:\n",
    "    \n",
    "    # Avoid exceeding 60 calls per minute from API request\n",
    "    time.sleep(1)\n",
    "    \n",
    "    # Request data from API\n",
    "    city_url = f\"http://api.openweathermap.org/data/2.5/weather?q={city}&appid={weather_api_key}\"\n",
    "    response = requests.get(city_url).json()\n",
    "    \n",
    "    try:\n",
    "        temp.append(response[\"main\"][\"temp\"])\n",
    "        humidity.append(response[\"main\"][\"humidity\"])\n",
    "        cloudiness.append(response[\"clouds\"][\"all\"])\n",
    "        windspeed.append(response[\"wind\"][\"speed\"])\n",
    "        successful_cities.append(city)\n",
    "        \n",
    "    except:\n",
    "        print(\"error found\")\n",
    "        \n",
    "print(temp)\n",
    "print(humidity)\n",
    "print(cloudiness)\n",
    "print(windspeed)\n",
    "print(successful_cities)"
   ]
  },
  {
   "cell_type": "code",
   "execution_count": null,
   "metadata": {},
   "outputs": [],
   "source": []
  }
 ],
 "metadata": {
  "kernelspec": {
   "display_name": "Python 3",
   "language": "python",
   "name": "python3"
  },
  "language_info": {
   "codemirror_mode": {
    "name": "ipython",
    "version": 3
   },
   "file_extension": ".py",
   "mimetype": "text/x-python",
   "name": "python",
   "nbconvert_exporter": "python",
   "pygments_lexer": "ipython3",
   "version": "3.8.5"
  }
 },
 "nbformat": 4,
 "nbformat_minor": 4
}
