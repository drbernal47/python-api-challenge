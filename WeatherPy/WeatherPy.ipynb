{
 "cells": [
  {
   "cell_type": "code",
   "execution_count": 1,
   "metadata": {},
   "outputs": [],
   "source": [
    "# Dependencies and Setup\n",
    "import matplotlib.pyplot as plt\n",
    "import pandas as pd\n",
    "import numpy as np\n",
    "import requests\n",
    "import time\n",
    "import json\n",
    "import datetime\n",
    "from scipy.stats import linregress\n",
    "\n",
    "# Import API key\n",
    "from config import weather_api_key\n",
    "\n",
    "# Incorporated citipy to determine city based on latitude and longitude\n",
    "from citipy import citipy\n",
    "\n",
    "# Output File (CSV)\n",
    "output_data_file = \"output_data/cities.csv\"\n",
    "\n",
    "# Range of latitudes and longitudes\n",
    "lat_range = (-90, 90)\n",
    "lng_range = (-180, 180)"
   ]
  },
  {
   "cell_type": "markdown",
   "metadata": {},
   "source": [
    "## Generate Cities List"
   ]
  },
  {
   "cell_type": "code",
   "execution_count": 2,
   "metadata": {},
   "outputs": [
    {
     "data": {
      "text/plain": [
       "10"
      ]
     },
     "execution_count": 2,
     "metadata": {},
     "output_type": "execute_result"
    }
   ],
   "source": [
    "# List for holding lat_lngs and cities\n",
    "coordinates = []\n",
    "cities = []\n",
    "\n",
    "# Create a set of random lat and lng combinations\n",
    "lats = np.random.uniform(lat_range[0], lat_range[1], size=10) # Change size to 1500 after testing\n",
    "lngs = np.random.uniform(lng_range[0], lng_range[1], size=10) # Change size to 1500 after testing\n",
    "coordinates = zip(lats, lngs)\n",
    "\n",
    "# Identify nearest city for each lat, lng combination\n",
    "for coord in coordinates:\n",
    "    city = citipy.nearest_city(coord[0], coord[1]).city_name\n",
    "    \n",
    "    # If the city is unique, then add it to a our cities list\n",
    "    if city not in cities:\n",
    "        cities.append(city)\n",
    "\n",
    "# Print the city count to confirm sufficient count\n",
    "len(cities)"
   ]
  },
  {
   "cell_type": "code",
   "execution_count": 23,
   "metadata": {},
   "outputs": [
    {
     "name": "stdout",
     "output_type": "stream",
     "text": [
      "-----------------------------------\n",
      "Retrieving Data – Please be patient\n",
      "-----------------------------------\n",
      "Found data for city #1: busselton\n",
      "Found data for city #2: kavaratti\n",
      "Found data for city #3: riyadh\n",
      "Found data for city #4: bathsheba\n",
      "Found data for city #5: elko\n",
      "Found data for city #6: hilo\n",
      "Found data for city #7: carmen\n",
      "City 'longlac' not found. Proceeding to next city.\n",
      "Found data for city #8: butaritari\n",
      "Found data for city #9: jambi\n",
      "-------------------------------------------\n",
      "Successfully retrieved data for 9 cities.\n",
      "-------------------------------------------\n"
     ]
    }
   ],
   "source": [
    "# Request weather data (temperature, humidity, cloudiness, windspeed) from OpenWeather\n",
    "\n",
    "successful_cities = []\n",
    "lat = []\n",
    "lng = []\n",
    "temp = []\n",
    "humidity = []\n",
    "cloudiness = []\n",
    "windspeed = []\n",
    "country = []\n",
    "date = []\n",
    "\n",
    "print(\"-----------------------------------\")\n",
    "print(\"Retrieving Data – Please be patient\")\n",
    "print(\"-----------------------------------\")\n",
    "\n",
    "for city in cities:\n",
    "    \n",
    "    # Avoid exceeding 60 calls per minute from API request\n",
    "    time.sleep(1)\n",
    "    \n",
    "    # Request data from API\n",
    "    city_url = f\"http://api.openweathermap.org/data/2.5/weather?q={city}&appid={weather_api_key}&units=imperial\"\n",
    "    response = requests.get(city_url).json()\n",
    "    \n",
    "    try:\n",
    "        lat.append(response[\"coord\"][\"lat\"])\n",
    "        lng.append(response[\"coord\"][\"lon\"])\n",
    "        temp.append(response[\"main\"][\"temp_max\"])\n",
    "        humidity.append(response[\"main\"][\"humidity\"])\n",
    "        cloudiness.append(response[\"clouds\"][\"all\"])\n",
    "        windspeed.append(response[\"wind\"][\"speed\"])\n",
    "        country.append(response[\"sys\"][\"country\"])\n",
    "        date.append(response[\"dt\"])\n",
    "        successful_cities.append(city)\n",
    "        print(f\"Found data for city #{len(successful_cities)}: {city}\")\n",
    "        \n",
    "    except:\n",
    "        print(f\"City '{city}' not found. Proceeding to next city.\")\n",
    "        pass\n",
    "    \n",
    "print(\"-------------------------------------------\")\n",
    "print(f\"Successfully retrieved data for {len(successful_cities)} cities.\")\n",
    "print(\"-------------------------------------------\")"
   ]
  },
  {
   "cell_type": "code",
   "execution_count": 38,
   "metadata": {},
   "outputs": [
    {
     "data": {
      "text/html": [
       "<div>\n",
       "<style scoped>\n",
       "    .dataframe tbody tr th:only-of-type {\n",
       "        vertical-align: middle;\n",
       "    }\n",
       "\n",
       "    .dataframe tbody tr th {\n",
       "        vertical-align: top;\n",
       "    }\n",
       "\n",
       "    .dataframe thead th {\n",
       "        text-align: right;\n",
       "    }\n",
       "</style>\n",
       "<table border=\"1\" class=\"dataframe\">\n",
       "  <thead>\n",
       "    <tr style=\"text-align: right;\">\n",
       "      <th></th>\n",
       "      <th>City</th>\n",
       "      <th>Latitude</th>\n",
       "      <th>Longitude</th>\n",
       "      <th>Max Temperature (°F)</th>\n",
       "      <th>Humidity (%)</th>\n",
       "      <th>Cloudiness (%)</th>\n",
       "      <th>Wind Speed (mph)</th>\n",
       "      <th>Country Code</th>\n",
       "      <th>Date &amp; Time</th>\n",
       "    </tr>\n",
       "  </thead>\n",
       "  <tbody>\n",
       "    <tr>\n",
       "      <th>0</th>\n",
       "      <td>busselton</td>\n",
       "      <td>-33.6500</td>\n",
       "      <td>115.3333</td>\n",
       "      <td>55.99</td>\n",
       "      <td>98</td>\n",
       "      <td>75</td>\n",
       "      <td>7.40</td>\n",
       "      <td>AU</td>\n",
       "      <td>1612810595</td>\n",
       "    </tr>\n",
       "    <tr>\n",
       "      <th>1</th>\n",
       "      <td>kavaratti</td>\n",
       "      <td>10.5669</td>\n",
       "      <td>72.6420</td>\n",
       "      <td>81.61</td>\n",
       "      <td>66</td>\n",
       "      <td>0</td>\n",
       "      <td>7.61</td>\n",
       "      <td>IN</td>\n",
       "      <td>1612810596</td>\n",
       "    </tr>\n",
       "    <tr>\n",
       "      <th>2</th>\n",
       "      <td>riyadh</td>\n",
       "      <td>24.6877</td>\n",
       "      <td>46.7219</td>\n",
       "      <td>60.80</td>\n",
       "      <td>51</td>\n",
       "      <td>0</td>\n",
       "      <td>8.05</td>\n",
       "      <td>SA</td>\n",
       "      <td>1612810442</td>\n",
       "    </tr>\n",
       "    <tr>\n",
       "      <th>3</th>\n",
       "      <td>bathsheba</td>\n",
       "      <td>13.2167</td>\n",
       "      <td>-59.5167</td>\n",
       "      <td>82.40</td>\n",
       "      <td>57</td>\n",
       "      <td>20</td>\n",
       "      <td>19.57</td>\n",
       "      <td>BB</td>\n",
       "      <td>1612810598</td>\n",
       "    </tr>\n",
       "    <tr>\n",
       "      <th>4</th>\n",
       "      <td>elko</td>\n",
       "      <td>41.0002</td>\n",
       "      <td>-115.5012</td>\n",
       "      <td>50.00</td>\n",
       "      <td>14</td>\n",
       "      <td>1</td>\n",
       "      <td>13.80</td>\n",
       "      <td>US</td>\n",
       "      <td>1612810599</td>\n",
       "    </tr>\n",
       "  </tbody>\n",
       "</table>\n",
       "</div>"
      ],
      "text/plain": [
       "        City  Latitude  Longitude  Max Temperature (°F)  Humidity (%)  \\\n",
       "0  busselton  -33.6500   115.3333                 55.99            98   \n",
       "1  kavaratti   10.5669    72.6420                 81.61            66   \n",
       "2     riyadh   24.6877    46.7219                 60.80            51   \n",
       "3  bathsheba   13.2167   -59.5167                 82.40            57   \n",
       "4       elko   41.0002  -115.5012                 50.00            14   \n",
       "\n",
       "   Cloudiness (%)  Wind Speed (mph) Country Code  Date & Time  \n",
       "0              75              7.40           AU   1612810595  \n",
       "1               0              7.61           IN   1612810596  \n",
       "2               0              8.05           SA   1612810442  \n",
       "3              20             19.57           BB   1612810598  \n",
       "4               1             13.80           US   1612810599  "
      ]
     },
     "execution_count": 38,
     "metadata": {},
     "output_type": "execute_result"
    }
   ],
   "source": [
    "# Create a dataframe\n",
    "weather_df = pd.DataFrame({\n",
    "    \"City\":successful_cities,\n",
    "    \"Latitude\":lat,\n",
    "    \"Longitude\":lng,\n",
    "    \"Max Temperature (°F)\":temp,\n",
    "    \"Humidity (%)\":humidity,\n",
    "    \"Cloudiness (%)\":cloudiness,\n",
    "    \"Wind Speed (mph)\":windspeed,\n",
    "    \"Country Code\":country,\n",
    "    \"Date & Time\":date\n",
    "})\n",
    "\n",
    "# Extract average timestamp & store for later\n",
    "mean_date = weather_df[\"Date & Time\"].mean()\n",
    "retrieval_date = datetime.datetime.fromtimestamp(mean_date).date()\n",
    "\n",
    "# Export data into a csv\n",
    "weather_df.to_csv(output_data_file,index = False)\n",
    "\n",
    "\n",
    "weather_df.head()"
   ]
  },
  {
   "cell_type": "markdown",
   "metadata": {},
   "source": [
    "## Scatterplots"
   ]
  },
  {
   "cell_type": "markdown",
   "metadata": {},
   "source": [
    "This scatterplot shows the relationship between Temperature and Latitude of each city."
   ]
  },
  {
   "cell_type": "code",
   "execution_count": 46,
   "metadata": {},
   "outputs": [
    {
     "data": {
      "image/png": "[encoded data removed]",
      "text/plain": [
       "<Figure size 432x288 with 1 Axes>"
      ]
     },
     "metadata": {
      "needs_background": "light"
     },
     "output_type": "display_data"
    }
   ],
   "source": [
    "plt.scatter(weather_df[\"Latitude\"],weather_df[\"Max Temperature (°F)\"])\n",
    "plt.title(f'Max Temperature vs. Latitude ({retrieval_date})')\n",
    "plt.xlabel(\"Latitude\")\n",
    "plt.ylabel(\"Temperature\")\n",
    "plt.savefig(\"output_data/Temperature_vs_Latitude.png\")\n",
    "plt.show()"
   ]
  },
  {
   "cell_type": "markdown",
   "metadata": {},
   "source": [
    "This scatterplot shows the relationship between Humidity and Latitude of each city."
   ]
  },
  {
   "cell_type": "code",
   "execution_count": 40,
   "metadata": {},
   "outputs": [
    {
     "data": {
      "image/png": "[encoded data removed]",
      "text/plain": [
       "<Figure size 432x288 with 1 Axes>"
      ]
     },
     "metadata": {
      "needs_background": "light"
     },
     "output_type": "display_data"
    }
   ],
   "source": [
    "plt.scatter(weather_df[\"Latitude\"],weather_df[\"Humidity (%)\"])\n",
    "plt.title(f'Humidity vs. Latitude ({retrieval_date})')\n",
    "plt.xlabel(\"Latitude\")\n",
    "plt.ylabel(\"Humidity\")\n",
    "plt.savefig(\"output_data/Humidity_vs_Latitude.png\")\n",
    "plt.show()"
   ]
  },
  {
   "cell_type": "markdown",
   "metadata": {},
   "source": [
    "This scatterplot shows the relationship between Cloudiness and Latitude of each city."
   ]
  },
  {
   "cell_type": "code",
   "execution_count": 41,
   "metadata": {},
   "outputs": [
    {
     "data": {
      "image/png": "[encoded data removed]",
      "text/plain": [
       "<Figure size 432x288 with 1 Axes>"
      ]
     },
     "metadata": {
      "needs_background": "light"
     },
     "output_type": "display_data"
    }
   ],
   "source": [
    "plt.scatter(weather_df[\"Latitude\"],weather_df[\"Cloudiness (%)\"])\n",
    "plt.title(f'Cloudiness vs. Latitude ({retrieval_date})')\n",
    "plt.xlabel(\"Latitude\")\n",
    "plt.ylabel(\"Cloudiness\")\n",
    "plt.savefig(\"output_data/Cloudiness_vs_Latitude.png\")\n",
    "plt.show()"
   ]
  },
  {
   "cell_type": "markdown",
   "metadata": {},
   "source": [
    "This scatterplot shows the relationship between Wind Speed and Latitude of each city."
   ]
  },
  {
   "cell_type": "code",
   "execution_count": 42,
   "metadata": {},
   "outputs": [
    {
     "data": {
      "image/png": "[encoded data removed]",
      "text/plain": [
       "<Figure size 432x288 with 1 Axes>"
      ]
     },
     "metadata": {
      "needs_background": "light"
     },
     "output_type": "display_data"
    }
   ],
   "source": [
    "plt.scatter(weather_df[\"Latitude\"],weather_df[\"Wind Speed (mph)\"])\n",
    "plt.title(f'Wind Speed vs. Latitude ({retrieval_date})')\n",
    "plt.xlabel(\"Latitude\")\n",
    "plt.ylabel(\"Wind Speed\")\n",
    "plt.savefig(\"output_data/Wind_Speed_vs_Latitude.png\")\n",
    "plt.show()"
   ]
  },
  {
   "cell_type": "code",
   "execution_count": null,
   "metadata": {},
   "outputs": [],
   "source": [
    "# May need to drop humidity outliers (above 100%)"
   ]
  }
 ],
 "metadata": {
  "kernelspec": {
   "display_name": "Python 3",
   "language": "python",
   "name": "python3"
  },
  "language_info": {
   "codemirror_mode": {
    "name": "ipython",
    "version": 3
   },
   "file_extension": ".py",
   "mimetype": "text/x-python",
   "name": "python",
   "nbconvert_exporter": "python",
   "pygments_lexer": "ipython3",
   "version": "3.8.5"
  }
 },
 "nbformat": 4,
 "nbformat_minor": 4
}
