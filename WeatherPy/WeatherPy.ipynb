{
 "cells": [
  {
   "cell_type": "code",
   "execution_count": 13,
   "metadata": {},
   "outputs": [],
   "source": [
    "# Dependencies and Setup\n",
    "import matplotlib.pyplot as plt\n",
    "import pandas as pd\n",
    "import numpy as np\n",
    "import requests\n",
    "import time\n",
    "import json\n",
    "from scipy.stats import linregress\n",
    "\n",
    "# Import API key\n",
    "from config import weather_api_key\n",
    "\n",
    "# Incorporated citipy to determine city based on latitude and longitude\n",
    "from citipy import citipy\n",
    "\n",
    "# Output File (CSV)\n",
    "output_data_file = \"output_data/cities.csv\"\n",
    "\n",
    "# Range of latitudes and longitudes\n",
    "lat_range = (-90, 90)\n",
    "lng_range = (-180, 180)"
   ]
  },
  {
   "cell_type": "markdown",
   "metadata": {},
   "source": [
    "## Generate Cities List"
   ]
  },
  {
   "cell_type": "code",
   "execution_count": 33,
   "metadata": {},
   "outputs": [
    {
     "data": {
      "text/plain": [
       "10"
      ]
     },
     "execution_count": 33,
     "metadata": {},
     "output_type": "execute_result"
    }
   ],
   "source": [
    "# List for holding lat_lngs and cities\n",
    "coordinates = []\n",
    "cities = []\n",
    "\n",
    "# Create a set of random lat and lng combinations\n",
    "lats = np.random.uniform(lat_range[0], lat_range[1], size=10) # Change size to 1500 after testing\n",
    "lngs = np.random.uniform(lng_range[0], lng_range[1], size=10) # Change size to 1500 after testing\n",
    "coordinates = zip(lats, lngs)\n",
    "\n",
    "# Identify nearest city for each lat, lng combination\n",
    "for coord in coordinates:\n",
    "    city = citipy.nearest_city(coord[0], coord[1]).city_name\n",
    "    \n",
    "    # If the city is unique, then add it to a our cities list\n",
    "    if city not in cities:\n",
    "        cities.append(city)\n",
    "\n",
    "# Print the city count to confirm sufficient count\n",
    "len(cities)"
   ]
  },
  {
   "cell_type": "code",
   "execution_count": 34,
   "metadata": {},
   "outputs": [
    {
     "data": {
      "text/plain": [
       "['busselton',\n",
       " 'hithadhoo',\n",
       " 'katsuura',\n",
       " 'jamestown',\n",
       " 'ushuaia',\n",
       " 'constitucion',\n",
       " 'labutta',\n",
       " 'punta arenas',\n",
       " 'sibolga',\n",
       " 'illoqqortoormiut']"
      ]
     },
     "execution_count": 34,
     "metadata": {},
     "output_type": "execute_result"
    }
   ],
   "source": [
    "cities"
   ]
  },
  {
   "cell_type": "code",
   "execution_count": 49,
   "metadata": {},
   "outputs": [
    {
     "name": "stdout",
     "output_type": "stream",
     "text": [
      "-----------------------------------\n",
      "Retrieving Data – Please be patient\n",
      "-----------------------------------\n",
      "Found data for city #1: busselton\n",
      "Found data for city #2: hithadhoo\n",
      "Found data for city #3: katsuura\n",
      "Found data for city #4: jamestown\n",
      "Found data for city #5: ushuaia\n",
      "Found data for city #6: constitucion\n",
      "City 'labutta' not found. Proceeding to next city.\n",
      "Found data for city #7: punta arenas\n",
      "Found data for city #8: sibolga\n",
      "City 'illoqqortoormiut' not found. Proceeding to next city.\n",
      "-----------------------------------\n",
      "Successfully retrieved data for 8 cities.\n",
      "-----------------------------------\n"
     ]
    }
   ],
   "source": [
    "# Request weather data (temperature, humidity, cloudiness, windspeed) from OpenWeather\n",
    "\n",
    "successful_cities = []\n",
    "temp = []\n",
    "humidity = []\n",
    "cloudiness = []\n",
    "windspeed = []\n",
    "\n",
    "print(\"-----------------------------------\")\n",
    "print(\"Retrieving Data – Please be patient\")\n",
    "print(\"-----------------------------------\")\n",
    "\n",
    "for city in cities:\n",
    "    \n",
    "    # Avoid exceeding 60 calls per minute from API request\n",
    "    time.sleep(1)\n",
    "    \n",
    "    # Request data from API\n",
    "    city_url = f\"http://api.openweathermap.org/data/2.5/weather?q={city}&appid={weather_api_key}&units=imperial\"\n",
    "    response = requests.get(city_url).json()\n",
    "    \n",
    "    try:\n",
    "        temp.append(response[\"main\"][\"temp\"])\n",
    "        humidity.append(response[\"main\"][\"humidity\"])\n",
    "        cloudiness.append(response[\"clouds\"][\"all\"])\n",
    "        windspeed.append(response[\"wind\"][\"speed\"])\n",
    "        successful_cities.append(city)\n",
    "        print(f\"Found data for city #{len(successful_cities)}: {city}\")\n",
    "        \n",
    "    except:\n",
    "        print(f\"City '{city}' not found. Proceeding to next city.\")\n",
    "        pass\n",
    "    \n",
    "print(\"-------------------------------------------\")\n",
    "print(f\"Successfully retrieved data for {len(successful_cities)} cities.\")\n",
    "print(\"-------------------------------------------\")"
   ]
  },
  {
   "cell_type": "code",
   "execution_count": 53,
   "metadata": {},
   "outputs": [
    {
     "data": {
      "text/html": [
       "<div>\n",
       "<style scoped>\n",
       "    .dataframe tbody tr th:only-of-type {\n",
       "        vertical-align: middle;\n",
       "    }\n",
       "\n",
       "    .dataframe tbody tr th {\n",
       "        vertical-align: top;\n",
       "    }\n",
       "\n",
       "    .dataframe thead th {\n",
       "        text-align: right;\n",
       "    }\n",
       "</style>\n",
       "<table border=\"1\" class=\"dataframe\">\n",
       "  <thead>\n",
       "    <tr style=\"text-align: right;\">\n",
       "      <th></th>\n",
       "      <th>City</th>\n",
       "      <th>Temperature (°F)</th>\n",
       "      <th>Humidity (%)</th>\n",
       "      <th>Cloudiness (%)</th>\n",
       "      <th>Windspeed (mph)</th>\n",
       "    </tr>\n",
       "  </thead>\n",
       "  <tbody>\n",
       "    <tr>\n",
       "      <th>0</th>\n",
       "      <td>busselton</td>\n",
       "      <td>55.36</td>\n",
       "      <td>97</td>\n",
       "      <td>20</td>\n",
       "      <td>7.36</td>\n",
       "    </tr>\n",
       "    <tr>\n",
       "      <th>1</th>\n",
       "      <td>hithadhoo</td>\n",
       "      <td>82.83</td>\n",
       "      <td>79</td>\n",
       "      <td>8</td>\n",
       "      <td>14.27</td>\n",
       "    </tr>\n",
       "    <tr>\n",
       "      <th>2</th>\n",
       "      <td>katsuura</td>\n",
       "      <td>35.91</td>\n",
       "      <td>35</td>\n",
       "      <td>96</td>\n",
       "      <td>1.01</td>\n",
       "    </tr>\n",
       "    <tr>\n",
       "      <th>3</th>\n",
       "      <td>jamestown</td>\n",
       "      <td>20.28</td>\n",
       "      <td>67</td>\n",
       "      <td>40</td>\n",
       "      <td>6.91</td>\n",
       "    </tr>\n",
       "    <tr>\n",
       "      <th>4</th>\n",
       "      <td>ushuaia</td>\n",
       "      <td>62.60</td>\n",
       "      <td>59</td>\n",
       "      <td>0</td>\n",
       "      <td>10.36</td>\n",
       "    </tr>\n",
       "    <tr>\n",
       "      <th>5</th>\n",
       "      <td>constitucion</td>\n",
       "      <td>67.51</td>\n",
       "      <td>67</td>\n",
       "      <td>27</td>\n",
       "      <td>8.70</td>\n",
       "    </tr>\n",
       "    <tr>\n",
       "      <th>6</th>\n",
       "      <td>punta arenas</td>\n",
       "      <td>69.39</td>\n",
       "      <td>40</td>\n",
       "      <td>0</td>\n",
       "      <td>14.97</td>\n",
       "    </tr>\n",
       "    <tr>\n",
       "      <th>7</th>\n",
       "      <td>sibolga</td>\n",
       "      <td>77.49</td>\n",
       "      <td>80</td>\n",
       "      <td>81</td>\n",
       "      <td>4.07</td>\n",
       "    </tr>\n",
       "  </tbody>\n",
       "</table>\n",
       "</div>"
      ],
      "text/plain": [
       "           City  Temperature (°F)  Humidity (%)  Cloudiness (%)  \\\n",
       "0     busselton             55.36            97              20   \n",
       "1     hithadhoo             82.83            79               8   \n",
       "2      katsuura             35.91            35              96   \n",
       "3     jamestown             20.28            67              40   \n",
       "4       ushuaia             62.60            59               0   \n",
       "5  constitucion             67.51            67              27   \n",
       "6  punta arenas             69.39            40               0   \n",
       "7       sibolga             77.49            80              81   \n",
       "\n",
       "   Windspeed (mph)  \n",
       "0             7.36  \n",
       "1            14.27  \n",
       "2             1.01  \n",
       "3             6.91  \n",
       "4            10.36  \n",
       "5             8.70  \n",
       "6            14.97  \n",
       "7             4.07  "
      ]
     },
     "execution_count": 53,
     "metadata": {},
     "output_type": "execute_result"
    }
   ],
   "source": [
    "# Create a dataframe\n",
    "weather_df = pd.DataFrame({\n",
    "    \"City\":successful_cities,\n",
    "    \"Temperature (°F)\":temp,\n",
    "    \"Humidity (%)\":humidity,\n",
    "    \"Cloudiness (%)\":cloudiness,\n",
    "    \"Windspeed (mph)\":windspeed\n",
    "})\n",
    "\n",
    "weather_df\n",
    "\n",
    "# Export data into a csv\n"
   ]
  },
  {
   "cell_type": "code",
   "execution_count": null,
   "metadata": {},
   "outputs": [],
   "source": []
  }
 ],
 "metadata": {
  "kernelspec": {
   "display_name": "Python 3",
   "language": "python",
   "name": "python3"
  },
  "language_info": {
   "codemirror_mode": {
    "name": "ipython",
    "version": 3
   },
   "file_extension": ".py",
   "mimetype": "text/x-python",
   "name": "python",
   "nbconvert_exporter": "python",
   "pygments_lexer": "ipython3",
   "version": "3.8.5"
  }
 },
 "nbformat": 4,
 "nbformat_minor": 4
}
